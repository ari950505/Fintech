{
 "cells": [
  {
   "cell_type": "markdown",
   "metadata": {},
   "source": [
    "복습"
   ]
  },
  {
   "cell_type": "markdown",
   "metadata": {},
   "source": [
    "\n",
    "Immutable (정수, 실수, 문자열, 튜플)"
   ]
  },
  {
   "cell_type": "code",
   "execution_count": 22,
   "metadata": {},
   "outputs": [
    {
     "name": "stdout",
     "output_type": "stream",
     "text": [
      "1\n"
     ]
    }
   ],
   "source": [
    "a = 1 #전역변수 global\n",
    "def immutable(a):\n",
    "    a += 2 #지역변수 local\n",
    "immutable(a)\n",
    "print(a)"
   ]
  },
  {
   "cell_type": "markdown",
   "metadata": {},
   "source": [
    "Mutable (리스트, 딕셔너리, 집합)\n"
   ]
  },
  {
   "cell_type": "code",
   "execution_count": 23,
   "metadata": {},
   "outputs": [
    {
     "name": "stdout",
     "output_type": "stream",
     "text": [
      "[1, 2, 3, 5]\n"
     ]
    }
   ],
   "source": [
    "b = [1,2,3] #전역변수\n",
    "def mutable(b):\n",
    "    b = b.append(5) #지역변수 (mutable하기에 변화는 가능하지만 여기서 전역변수, 지역변수는 여전히 다름)\n",
    "mutable(b)\n",
    "print(b)"
   ]
  },
  {
   "cell_type": "markdown",
   "metadata": {},
   "source": [
    "### 객체 지향 프로그래밍 (Object-Oriented Programming, OOP)\n",
    "- 객체 지향 프로그래밍은 기능별로 묶어서 모듈화 진행이 가능한데 이는 재사용이 가능하고, 확장 & 유지 보수에 용이하다.\n",
    "- 반대로 절차 지향 프로그래밍은 순차적인 처리가 중요하며, 유기적 연결 프로그래밍을 하는 기법이다.\n",
    "- 객체(Object) : 사물(thing), 속성(attribute), 행동(action)\n",
    "- 예시) 핸드폰 -> 모델 이름, 출시가,카메라 성능 등이 속성; 전화한다, 사진찍는다, 메세지 보내다 등이 행동.\n",
    "- 객체 지향 프로그래밍은 이러한 객체의 속성을 변수로, 행동을 함수(메서드)로 표현한다.\n",
    "- 파이썬은 대표적인 객체 지향 프로그래밍 중 하나 \n",
    "    - 숫자 값, 클래스, 클래스 객체와 모듈, 문자열, 컴파일 된 코드 등이 모두 객체에 해당한다. \n",
    "\n",
    "\n"
   ]
  },
  {
   "cell_type": "markdown",
   "metadata": {},
   "source": [
    "#### 클래스 Class\n",
    "- Python 의 핵심!\n",
    "- C언어에는 class 없음\n",
    "- 반복되는 변수와 함수(메서드)를 정의한 객체의 틀(설계도)\n",
    "- **즉, 클래스를 사용하는 이유는 반복되는 기능을 만들기 위해 클래스를 쓴다.**\n",
    "- 이러한 객체의 틀이 클래스이고 생성되어 나온 객체를 인스턴스(instance)라고 함. (과자 틀: 클래스, 과자:객체/instance)\n",
    "- class 명의 첫 글자는 대문자 class Calculator:\n"
   ]
  },
  {
   "cell_type": "code",
   "execution_count": 27,
   "metadata": {},
   "outputs": [
    {
     "name": "stdout",
     "output_type": "stream",
     "text": [
      "5\n",
      "13\n"
     ]
    }
   ],
   "source": [
    "result = 0\n",
    "def add(a):\n",
    "    global result #전역변수\n",
    "    result += a\n",
    "    return result \n",
    "print(add(5))\n",
    "print(add(8))"
   ]
  },
  {
   "cell_type": "markdown",
   "metadata": {},
   "source": [
    "Problems:\n",
    "- 각각의 계산기는 계산값을 따로따로 유지 필요, add함수 하나만으로 따로 유지할 수 없음.\n",
    "- 똑같은 함수 요함.\n",
    "- 필요한 계산기 더 필요할 수 있음.\n",
    "```\n",
    "So\n",
    "```\n",
    "- **클래스를 사용하는 이유는 반복되는 기능을 만들기 위해 클래스를 쓴다.**\n"
   ]
  },
  {
   "cell_type": "markdown",
   "metadata": {},
   "source": [
    "### init 함수 \n",
    "\n",
    "- init은 인스턴트가 처음 생성될때 필수적으로 항상 호출되는 함수.\n",
    "- 따라서 학생이라는 클래스를 받아 홍길동이라는 학생의 인스턴트를 생성하고 싶다면 이름이 홍길동이고 학번이 무엇이고 등의 필수적인 정보를 저장해두어야함. 이를 위해서 처음에 생성할때부터 필요한 변수들을 그 인스턴스 내에 저장해두는 것.\n"
   ]
  },
  {
   "cell_type": "code",
   "execution_count": 32,
   "metadata": {},
   "outputs": [
    {
     "name": "stdout",
     "output_type": "stream",
     "text": [
      "1\n",
      "6\n",
      "7\n",
      "16\n"
     ]
    }
   ],
   "source": [
    "class Calculator:\n",
    "    def __init__(self):\n",
    "        self.result = 0\n",
    "    \n",
    "    def add(self, number):\n",
    "        self.result += number\n",
    "        return self.result\n",
    "    \n",
    "cal1 = Calculator()\n",
    "cal2 = Calculator()\n",
    "    \n",
    "print(cal1.add(1))\n",
    "print(cal1.add(5))\n",
    "print(cal2.add(7))\n",
    "print(cal2.add(9))       \n",
    "        "
   ]
  },
  {
   "cell_type": "markdown",
   "metadata": {},
   "source": [
    "클래스 변수"
   ]
  },
  {
   "cell_type": "code",
   "execution_count": 37,
   "metadata": {},
   "outputs": [
    {
     "data": {
      "text/plain": [
       "'파이썬'"
      ]
     },
     "execution_count": 37,
     "metadata": {},
     "output_type": "execute_result"
    }
   ],
   "source": [
    "#서비스를 제공해주는 업체, 가입시 어떠한 조건도 필요 없고 ser을 얻을 수 있음.\n",
    "class Service:\n",
    "    ser = '파이썬'\n",
    "hi = Service()\n",
    "hi.ser"
   ]
  },
  {
   "cell_type": "code",
   "execution_count": null,
   "metadata": {},
   "outputs": [],
   "source": []
  },
  {
   "cell_type": "code",
   "execution_count": null,
   "metadata": {},
   "outputs": [],
   "source": []
  },
  {
   "cell_type": "code",
   "execution_count": 26,
   "metadata": {},
   "outputs": [
    {
     "name": "stdout",
     "output_type": "stream",
     "text": [
      "6\n"
     ]
    }
   ],
   "source": [
    "class FourCal:\n",
    "    def insertnum(self,first,second):\n",
    "        self.first = first\n",
    "        self.second = second\n",
    "    def add(self):\n",
    "        result = self.first + self.second\n",
    "        return result\n",
    "    \n",
    "a = FourCal()\n",
    "a.insertnum(4,2)\n",
    "print(a.add())\n",
    "        "
   ]
  },
  {
   "cell_type": "code",
   "execution_count": null,
   "metadata": {},
   "outputs": [],
   "source": [
    "\n"
   ]
  }
 ],
 "metadata": {
  "interpreter": {
   "hash": "1dcf4112e9d9dbfbee30c7e0f7b88f51348429db15499848de277de6c1aef27f"
  },
  "kernelspec": {
   "display_name": "Python 3.9.7 64-bit",
   "language": "python",
   "name": "python3"
  },
  "language_info": {
   "codemirror_mode": {
    "name": "ipython",
    "version": 3
   },
   "file_extension": ".py",
   "mimetype": "text/x-python",
   "name": "python",
   "nbconvert_exporter": "python",
   "pygments_lexer": "ipython3",
   "version": "3.9.7"
  },
  "orig_nbformat": 4
 },
 "nbformat": 4,
 "nbformat_minor": 2
}
