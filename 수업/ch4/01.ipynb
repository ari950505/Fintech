{
 "cells": [
  {
   "cell_type": "markdown",
   "metadata": {},
   "source": [
    "# init 함수 \n",
    "\n",
    "- init은 인스턴트가 처음 생성될때 무조건 호출되는 함수입니다.\n",
    "- 따라서 학생이라는 클래스를 받아 홍길동이라는 학생의 인스턴트를 생성하고싶다면 이름이 홍길동이고 학번이 무엇이고 등의 필수적인 정보를 저장해두어야 겠지요. 이를 위해서 처음에 생성할때부터 필요한 변수들을 그 인스턴스 내에 저장해두는 것입니다.\n",
    "\n"
   ]
  },
  {
   "cell_type": "markdown",
   "metadata": {},
   "source": [
    "# 모듈 import "
   ]
  },
  {
   "cell_type": "code",
   "execution_count": 2,
   "metadata": {},
   "outputs": [],
   "source": [
    "import some_module\n"
   ]
  },
  {
   "cell_type": "code",
   "execution_count": 5,
   "metadata": {},
   "outputs": [
    {
     "data": {
      "text/plain": [
       "7"
      ]
     },
     "execution_count": 5,
     "metadata": {},
     "output_type": "execute_result"
    }
   ],
   "source": [
    "result = some_module.f(5)\n",
    "pi = some_module.PI\n",
    "result"
   ]
  },
  {
   "cell_type": "code",
   "execution_count": 6,
   "metadata": {},
   "outputs": [],
   "source": [
    "\n",
    "from some_module import f, g, PI\n",
    "result = g(5,PI)"
   ]
  },
  {
   "cell_type": "code",
   "execution_count": null,
   "metadata": {},
   "outputs": [],
   "source": [
    "import some_module as sm\n",
    "from some_module import PI as pi, g as gf \n",
    "r1 = sm.f(pi)\n",
    "r2 = gf(6,pi)"
   ]
  }
 ],
 "metadata": {
  "interpreter": {
   "hash": "1dcf4112e9d9dbfbee30c7e0f7b88f51348429db15499848de277de6c1aef27f"
  },
  "kernelspec": {
   "display_name": "Python 3.9.7 64-bit",
   "language": "python",
   "name": "python3"
  },
  "language_info": {
   "codemirror_mode": {
    "name": "ipython",
    "version": 3
   },
   "file_extension": ".py",
   "mimetype": "text/x-python",
   "name": "python",
   "nbconvert_exporter": "python",
   "pygments_lexer": "ipython3",
   "version": "3.9.7"
  },
  "orig_nbformat": 4
 },
 "nbformat": 4,
 "nbformat_minor": 2
}
