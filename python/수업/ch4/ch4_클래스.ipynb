{
 "cells": [
  {
   "cell_type": "markdown",
   "metadata": {},
   "source": [
    "복습"
   ]
  },
  {
   "cell_type": "markdown",
   "metadata": {},
   "source": [
    "\n",
    "Immutable (정수, 실수, 문자열, 튜플)"
   ]
  },
  {
   "cell_type": "code",
   "execution_count": 22,
   "metadata": {},
   "outputs": [
    {
     "name": "stdout",
     "output_type": "stream",
     "text": [
      "1\n"
     ]
    }
   ],
   "source": [
    "a = 1 #전역변수 global\n",
    "def immutable(a):\n",
    "    a += 2 #지역변수 local\n",
    "immutable(a)\n",
    "print(a)"
   ]
  },
  {
   "cell_type": "markdown",
   "metadata": {},
   "source": [
    "Mutable (리스트, 딕셔너리, 집합)\n"
   ]
  },
  {
   "cell_type": "code",
   "execution_count": 23,
   "metadata": {},
   "outputs": [
    {
     "name": "stdout",
     "output_type": "stream",
     "text": [
      "[1, 2, 3, 5]\n"
     ]
    }
   ],
   "source": [
    "b = [1,2,3] #전역변수\n",
    "def mutable(b):\n",
    "    b = b.append(5) #지역변수 (mutable하기에 변화는 가능하지만 여기서 전역변수, 지역변수는 여전히 다름)\n",
    "mutable(b)\n",
    "print(b)"
   ]
  },
  {
   "cell_type": "markdown",
   "metadata": {},
   "source": [
    "### 객체 지향 프로그래밍 (Object-Oriented Programming, OOP)\n",
    "- 객체 지향 프로그래밍은 기능별로 묶어서 모듈화 진행이 가능한데 이는 재사용이 가능하고, 확장 & 유지 보수에 용이하다.\n",
    "- 반대로 절차 지향 프로그래밍은 순차적인 처리가 중요하며, 유기적 연결 프로그래밍을 하는 기법이다.\n",
    "- 객체(Object) : 사물(thing), 속성(attribute), 행동(action)\n",
    "- 예시) 핸드폰 -> 모델 이름, 출시가,카메라 성능 등이 속성; 전화한다, 사진찍는다, 메세지 보내다 등이 행동.\n",
    "- 객체 지향 프로그래밍은 이러한 객체의 속성을 변수로, 행동을 함수(메서드)로 표현한다.\n",
    "- 파이썬은 대표적인 객체 지향 프로그래밍 중 하나 \n",
    "    - 숫자 값, 클래스, 클래스 객체와 모듈, 문자열, 컴파일 된 코드 등이 모두 객체에 해당한다. \n",
    "\n",
    "\n"
   ]
  },
  {
   "cell_type": "markdown",
   "metadata": {},
   "source": [
    "#### 클래스 Class\n",
    "- Python 의 핵심!\n",
    "- C언어에는 class 없음\n",
    "- 반복되는 변수와 함수(메서드)를 정의한 객체의 틀(설계도)\n",
    "- **즉, 클래스를 사용하는 이유는 반복되는 기능을 만들기 위해 클래스를 쓴다.**\n",
    "- 이러한 객체의 틀이 클래스이고 생성되어 나온 객체를 인스턴스(instance)라고 함. (과자 틀: 클래스, 과자:객체/instance)\n",
    "- class 명의 첫 글자는 대문자 class Calculator:\n"
   ]
  },
  {
   "cell_type": "code",
   "execution_count": 27,
   "metadata": {},
   "outputs": [
    {
     "name": "stdout",
     "output_type": "stream",
     "text": [
      "5\n",
      "13\n"
     ]
    }
   ],
   "source": [
    "result = 0\n",
    "def add(a):\n",
    "    global result #전역변수\n",
    "    result += a\n",
    "    return result \n",
    "print(add(5))\n",
    "print(add(8))"
   ]
  },
  {
   "cell_type": "markdown",
   "metadata": {},
   "source": [
    "Problems:\n",
    "- 각각의 계산기는 계산값을 따로따로 유지 필요, add함수 하나만으로 따로 유지할 수 없음.\n",
    "- 똑같은 함수 요함.\n",
    "- 필요한 계산기 더 필요할 수 있음.\n",
    "```\n",
    "So\n",
    "```\n",
    "- **클래스를 사용하는 이유는 반복되는 기능을 만들기 위해 클래스를 쓴다.**\n"
   ]
  },
  {
   "cell_type": "code",
   "execution_count": 32,
   "metadata": {},
   "outputs": [
    {
     "name": "stdout",
     "output_type": "stream",
     "text": [
      "1\n",
      "6\n",
      "7\n",
      "16\n"
     ]
    }
   ],
   "source": [
    "class Calculator:\n",
    "    def __init__(self):\n",
    "        self.result = 0\n",
    "    \n",
    "    def add(self, number):\n",
    "        self.result += number\n",
    "        return self.result\n",
    "    \n",
    "cal1 = Calculator()\n",
    "cal2 = Calculator()\n",
    "    \n",
    "print(cal1.add(1))\n",
    "print(cal1.add(5))\n",
    "print(cal2.add(7))\n",
    "print(cal2.add(9))       \n",
    "        "
   ]
  },
  {
   "cell_type": "markdown",
   "metadata": {},
   "source": [
    "클래스 변수"
   ]
  },
  {
   "cell_type": "code",
   "execution_count": 46,
   "metadata": {},
   "outputs": [
    {
     "data": {
      "text/plain": [
       "'파이썬'"
      ]
     },
     "execution_count": 46,
     "metadata": {},
     "output_type": "execute_result"
    }
   ],
   "source": [
    "#서비스를 제공해주는 업체, 가입시 어떠한 조건도 필요 없고 ser을 얻을 수 있음.\n",
    "class Service:\n",
    "    ser = '파이썬'\n",
    "hi = Service()\n",
    "hi.ser"
   ]
  },
  {
   "cell_type": "markdown",
   "metadata": {},
   "source": [
    "클래스 함수(메서드)\n",
    "\n",
    "- 업체가 고객들에게 덧셈 서비스 제공 위해 class Service() 업데이트 함.\n"
   ]
  },
  {
   "cell_type": "code",
   "execution_count": 1,
   "metadata": {},
   "outputs": [
    {
     "data": {
      "text/plain": [
       "6"
      ]
     },
     "execution_count": 1,
     "metadata": {},
     "output_type": "execute_result"
    }
   ],
   "source": [
    "class Service:\n",
    "    ser = '파이썬'\n",
    "    \n",
    "    def add(self,a,b):\n",
    "        result = a+b\n",
    "        return result\n",
    "hey = Service()\n",
    "hey.add(1,5) #가입된 고객 서비스 이용 가능"
   ]
  },
  {
   "cell_type": "code",
   "execution_count": 3,
   "metadata": {},
   "outputs": [
    {
     "data": {
      "text/plain": [
       "7"
      ]
     },
     "execution_count": 3,
     "metadata": {},
     "output_type": "execute_result"
    }
   ],
   "source": [
    "# add 함수의 self 인자는 서비스 가입 여부를 확인하는 장치.\n",
    "# 클래스 내 함수의 첫 번째 인수는 무조건 self로 사용해야 인스턴스의 함수로 사용 가능. \n",
    "# 여기서 self의 인수는 hi, hi=Service()로 self 인수 지정해줌.\n",
    "\n",
    "hi=Service()\n",
    "hi.add(3,4)"
   ]
  },
  {
   "cell_type": "code",
   "execution_count": 30,
   "metadata": {},
   "outputs": [
    {
     "name": "stdout",
     "output_type": "stream",
     "text": [
      "4 + 2 = 6 입니다!\n",
      "4 - 2 = 2 입니다.\n",
      "4 * 2 = 8 입니다!\n",
      "4 / 2 = 2.0 입니다!\n"
     ]
    }
   ],
   "source": [
    "class FourCal:\n",
    "    def insertnum(self,first,second):\n",
    "        self.first = first\n",
    "        self.second = second\n",
    "        \n",
    "    def add(self):\n",
    "        result = self.first + self.second\n",
    "        print(f'{self.first} + {self.second} = {result} 입니다!')\n",
    "        \n",
    "    def sub(self):\n",
    "        result = self.first - self.second\n",
    "        print('%d - %d = %d 입니다.'%(self.first,self.second, result)) #%s, %.2f\n",
    "        \n",
    "        \n",
    "    def mul(self):\n",
    "        result = self.first * self.second\n",
    "        print('{} * {} = {} 입니다!'.format(self.first,self.second,result))\n",
    "        \n",
    "        \n",
    "    def div(self):\n",
    "        result = self.first / self.second\n",
    "        print(f'{self.first} / {self.second} = {result} 입니다!')\n",
    "        #print('{} * {} = {} 입니다!'.format(self.first,self.second,result))\n",
    "        # print('%d - %d = %d 입니다.'%(self.first,self.second, result))\n",
    "\n",
    "        \n",
    "        \n",
    "a = FourCal()\n",
    "a.insertnum(4,2)\n",
    "a.add()\n",
    "a.sub()\n",
    "a.mul()\n",
    "a.div()"
   ]
  },
  {
   "cell_type": "markdown",
   "metadata": {},
   "source": [
    "#### self"
   ]
  },
  {
   "cell_type": "markdown",
   "metadata": {},
   "source": [
    "고객 이름 출력 모듈"
   ]
  },
  {
   "cell_type": "code",
   "execution_count": 8,
   "metadata": {},
   "outputs": [
    {
     "data": {
      "text/plain": [
       "('Mina', 6)"
      ]
     },
     "execution_count": 8,
     "metadata": {},
     "output_type": "execute_result"
    }
   ],
   "source": [
    "class Service:\n",
    "    ser = '파이썬' \n",
    "    \n",
    "    def setname(self,name):\n",
    "        self.name = name\n",
    "    def add(self,a,b):\n",
    "        result = a+b\n",
    "        return self.name, result\n",
    "a = Service()  #self의 역할은 a라는 id와 이름을 연결해주는 것. \n",
    "a.setname('Min') #이름을 먼저 입력 받지 못하는 경우 오류발생.\n",
    "a.add(1,5)     "
   ]
  },
  {
   "cell_type": "markdown",
   "metadata": {},
   "source": [
    "```\n",
    "__init__ 함수\n",
    "```"
   ]
  },
  {
   "cell_type": "code",
   "execution_count": null,
   "metadata": {},
   "outputs": [],
   "source": [
    "- 인스턴스를 처음 생성할 때 속성 값 지정.\n",
    "- "
   ]
  },
  {
   "cell_type": "markdown",
   "metadata": {},
   "source": [
    "### init 함수 \n",
    "\n",
    "- init은 인스턴트가 처음 생성될때 필수적으로 항상 호출되는 함수.\n",
    "- 따라서 학생이라는 클래스를 받아 홍길동이라는 학생의 인스턴트를 생성하고 싶다면 이름이 홍길동이고 학번이 무엇이고 등의 필수적인 정보를 저장해두어야함. \n",
    "- 이를 위해서 처음에 생성할때부터 필요한 변수들을 그 인스턴스 내에 저장해두는 것."
   ]
  },
  {
   "cell_type": "code",
   "execution_count": 14,
   "metadata": {},
   "outputs": [
    {
     "ename": "TypeError",
     "evalue": "__init__() missing 1 required positional argument: 'name'",
     "output_type": "error",
     "traceback": [
      "\u001b[1;31m---------------------------------------------------------------------------\u001b[0m",
      "\u001b[1;31mTypeError\u001b[0m                                 Traceback (most recent call last)",
      "\u001b[1;32m~\\AppData\\Local\\Temp/ipykernel_4532/792142005.py\u001b[0m in \u001b[0;36m<module>\u001b[1;34m\u001b[0m\n\u001b[0;32m      6\u001b[0m         \u001b[0mresult\u001b[0m \u001b[1;33m=\u001b[0m \u001b[0ma\u001b[0m\u001b[1;33m+\u001b[0m\u001b[0mb\u001b[0m\u001b[1;33m\u001b[0m\u001b[1;33m\u001b[0m\u001b[0m\n\u001b[0;32m      7\u001b[0m         \u001b[1;32mreturn\u001b[0m \u001b[0mself\u001b[0m\u001b[1;33m.\u001b[0m\u001b[0mname\u001b[0m\u001b[1;33m,\u001b[0m \u001b[0mresult\u001b[0m\u001b[1;33m\u001b[0m\u001b[1;33m\u001b[0m\u001b[0m\n\u001b[1;32m----> 8\u001b[1;33m \u001b[0ma\u001b[0m \u001b[1;33m=\u001b[0m \u001b[0mService\u001b[0m\u001b[1;33m(\u001b[0m\u001b[1;33m)\u001b[0m\u001b[1;33m\u001b[0m\u001b[1;33m\u001b[0m\u001b[0m\n\u001b[0m",
      "\u001b[1;31mTypeError\u001b[0m: __init__() missing 1 required positional argument: 'name'"
     ]
    }
   ],
   "source": [
    "# 처음에 self.name을 입력해주지 않아서 오류남.\n",
    "class Service:\n",
    "    def __init__(self,name):\n",
    "        self.name = name \n",
    "    def add(self, a,b):\n",
    "        result = a+b\n",
    "        return self.name, result\n",
    "a = Service()"
   ]
  },
  {
   "cell_type": "code",
   "execution_count": 15,
   "metadata": {},
   "outputs": [
    {
     "data": {
      "text/plain": [
       "('헤이', 5)"
      ]
     },
     "execution_count": 15,
     "metadata": {},
     "output_type": "execute_result"
    }
   ],
   "source": [
    "class Service:\n",
    "    def __init__(self,name):\n",
    "        self.name = name \n",
    "    def add(self, a,b):\n",
    "        result = a+b\n",
    "        return self.name, result\n",
    "a = Service('헤이') # __init__함수에 입력필수!!!\n",
    "a.add(2,3)"
   ]
  },
  {
   "cell_type": "code",
   "execution_count": 58,
   "metadata": {},
   "outputs": [
    {
     "name": "stdout",
     "output_type": "stream",
     "text": [
      "6\n"
     ]
    }
   ],
   "source": [
    "\n",
    "        "
   ]
  },
  {
   "cell_type": "code",
   "execution_count": null,
   "metadata": {},
   "outputs": [],
   "source": [
    "\n"
   ]
  }
 ],
 "metadata": {
  "interpreter": {
   "hash": "1dcf4112e9d9dbfbee30c7e0f7b88f51348429db15499848de277de6c1aef27f"
  },
  "kernelspec": {
   "display_name": "Python 3.9.7 64-bit",
   "language": "python",
   "name": "python3"
  },
  "language_info": {
   "codemirror_mode": {
    "name": "ipython",
    "version": 3
   },
   "file_extension": ".py",
   "mimetype": "text/x-python",
   "name": "python",
   "nbconvert_exporter": "python",
   "pygments_lexer": "ipython3",
   "version": "3.9.7"
  },
  "orig_nbformat": 4
 },
 "nbformat": 4,
 "nbformat_minor": 2
}
